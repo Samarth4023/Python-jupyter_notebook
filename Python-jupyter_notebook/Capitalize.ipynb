{
 "cells": [
  {
   "cell_type": "markdown",
   "id": "c92198ba-c37b-4f08-8e95-058fad62b501",
   "metadata": {},
   "source": [
    "#### You are asked to ensure that the first and last names of people begin with a capital letter in their passports. For example, alison heck should be capitalised correctly as Alison Heck.\n",
    "\n",
    "#### Given a full name, your task is to capitalize the name appropriately.\n",
    "#### Input Format\n",
    "#### A single line of input containing the full name, S."
   ]
  },
  {
   "cell_type": "code",
   "execution_count": 4,
   "id": "ebaad939-56a5-4ee0-9f60-43722e5c0f0b",
   "metadata": {},
   "outputs": [
    {
     "ename": "KeyError",
     "evalue": "'base'",
     "output_type": "error",
     "traceback": [
      "\u001b[1;31m---------------------------------------------------------------------------\u001b[0m",
      "\u001b[1;31mKeyError\u001b[0m                                  Traceback (most recent call last)",
      "Cell \u001b[1;32mIn[4], line 25\u001b[0m\n\u001b[0;32m     21\u001b[0m     \u001b[38;5;28;01mreturn\u001b[39;00m done\n\u001b[0;32m     23\u001b[0m \u001b[38;5;28;01mif\u001b[39;00m \u001b[38;5;18m__name__\u001b[39m \u001b[38;5;241m==\u001b[39m \u001b[38;5;124m'\u001b[39m\u001b[38;5;124m__main__\u001b[39m\u001b[38;5;124m'\u001b[39m:\n\u001b[0;32m     24\u001b[0m     \u001b[38;5;66;03m# Open a file for writing, specified by the OUTPUT_PATH environment variable\u001b[39;00m\n\u001b[1;32m---> 25\u001b[0m     fptr \u001b[38;5;241m=\u001b[39m \u001b[38;5;28mopen\u001b[39m(os\u001b[38;5;241m.\u001b[39menviron[\u001b[38;5;124m'\u001b[39m\u001b[38;5;124mbase\u001b[39m\u001b[38;5;124m'\u001b[39m], \u001b[38;5;124m'\u001b[39m\u001b[38;5;124mw\u001b[39m\u001b[38;5;124m'\u001b[39m)\n\u001b[0;32m     27\u001b[0m     \u001b[38;5;66;03m# Read the input string from standard input\u001b[39;00m\n\u001b[0;32m     28\u001b[0m     s \u001b[38;5;241m=\u001b[39m \u001b[38;5;28minput\u001b[39m()\n",
      "File \u001b[1;32m<frozen os>:685\u001b[0m, in \u001b[0;36m__getitem__\u001b[1;34m(self, key)\u001b[0m\n",
      "\u001b[1;31mKeyError\u001b[0m: 'base'"
     ]
    }
   ],
   "source": [
    "#!/bin/python3  # Specifies the interpreter to be used for the script\n",
    "import math  # Importing the math module, though it's not used in this script\n",
    "import os  # Importing the os module to handle environment variables and file operations\n",
    "import random  # Importing the random module, though it's not used in this script\n",
    "import re  # Importing the re module for regular expressions, though it's not used in this script\n",
    "import sys  # Importing the sys module, though it's not used in this script\n",
    "\n",
    "# Complete the solve function below.\n",
    "def solve(s):\n",
    "    # Initialize an empty list to store the capitalized words\n",
    "    words = []\n",
    "    # Split the input string 's' into a list of words using space as the delimiter\n",
    "    spl = s.split(\" \")\n",
    "    # Iterate over each word in the list\n",
    "    for i in spl:\n",
    "        # Capitalize the first letter of the word and append it to the 'words' list\n",
    "        words.append(i.capitalize())\n",
    "    # Join the list of capitalized words into a single string with spaces in between\n",
    "    done = \" \".join(words)\n",
    "    # Return the final capitalized string\n",
    "    return done\n",
    "\n",
    "if __name__ == '__main__':\n",
    "    # Open a file for writing, specified by the OUTPUT_PATH environment variable\n",
    "    fptr = open(os.environ['base'], 'w')\n",
    "\n",
    "    # Read the input string from standard input\n",
    "    s = input()\n",
    "\n",
    "    # Call the solve function and store the result\n",
    "    result = solve(s)\n",
    "\n",
    "    # Write the result to the file\n",
    "    fptr.write(result + '\\n')\n",
    "\n",
    "    # Close the file\n",
    "    fptr.close() "
   ]
  },
  {
   "cell_type": "code",
   "execution_count": 5,
   "id": "35b89b04-3209-4ec8-be51-23abf060eca7",
   "metadata": {},
   "outputs": [
    {
     "name": "stdout",
     "output_type": "stream",
     "text": [
      "Selected Jupyter core packages...\n",
      "IPython          : 8.25.0\n",
      "ipykernel        : 6.28.0\n",
      "ipywidgets       : 8.1.2\n",
      "jupyter_client   : 8.6.0\n",
      "jupyter_core     : 5.5.0\n",
      "jupyter_server   : 2.10.0\n",
      "jupyterlab       : 4.2.3\n",
      "nbclient         : 0.8.0\n",
      "nbconvert        : 7.10.0\n",
      "nbformat         : 5.9.2\n",
      "notebook         : 7.2.1\n",
      "qtconsole        : 5.5.1\n",
      "traitlets        : 5.14.3\n"
     ]
    }
   ],
   "source": [
    "!jupyter --version"
   ]
  }
 ],
 "metadata": {
  "kernelspec": {
   "display_name": "example",
   "language": "python",
   "name": "example"
  },
  "language_info": {
   "codemirror_mode": {
    "name": "ipython",
    "version": 3
   },
   "file_extension": ".py",
   "mimetype": "text/x-python",
   "name": "python",
   "nbconvert_exporter": "python",
   "pygments_lexer": "ipython3",
   "version": "3.12.2"
  }
 },
 "nbformat": 4,
 "nbformat_minor": 5
}
