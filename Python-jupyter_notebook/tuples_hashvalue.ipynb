{
 "cells": [
  {
   "cell_type": "markdown",
   "id": "fbea9ee2-6371-42c8-9c46-fdcd3cc0a8c1",
   "metadata": {},
   "source": [
    "### Given an integer, n, and n space-separated integers as input, create a tuple, , of those  integers. Then compute and print the result of hash(i).\n",
    "\n",
    "### Note: hash() is one of the functions in the __builtins__ module, so it need not be imported."
   ]
  },
  {
   "cell_type": "code",
   "execution_count": 4,
   "id": "142472a3-6385-4169-a950-a02fa2a2aee6",
   "metadata": {},
   "outputs": [
    {
     "name": "stdin",
     "output_type": "stream",
     "text": [
      "Enter the number of integers:  2\n",
      "Enter the integers separated by spaces:  1 2\n"
     ]
    },
    {
     "name": "stdout",
     "output_type": "stream",
     "text": [
      "Hash value: -3550055125485641917\n"
     ]
    }
   ],
   "source": [
    "# Read an integer from input\n",
    "n = int(input(\"Enter the number of integers: \"))\n",
    "\n",
    "# Read a list of integers from input\n",
    "integer_list = map(int, input(\"Enter the integers separated by spaces: \").split())\n",
    "\n",
    "# Create a tuple from the list of integers\n",
    "tp = tuple(integer_list)\n",
    "\n",
    "# Calculate the hash value of the tuple\n",
    "th = hash(tp)\n",
    "\n",
    "# Print the hash value\n",
    "print(\"Hash value:\", th)"
   ]
  },
  {
   "cell_type": "code",
   "execution_count": 1,
   "id": "3961b4ee-947b-470a-9311-f8e7b24d964d",
   "metadata": {},
   "outputs": [
    {
     "name": "stdout",
     "output_type": "stream",
     "text": [
      "Selected Jupyter core packages...\n",
      "IPython          : 8.25.0\n",
      "ipykernel        : 6.28.0\n",
      "ipywidgets       : 8.1.2\n",
      "jupyter_client   : 8.6.0\n",
      "jupyter_core     : 5.5.0\n",
      "jupyter_server   : 2.10.0\n",
      "jupyterlab       : 4.2.3\n",
      "nbclient         : 0.8.0\n",
      "nbconvert        : 7.10.0\n",
      "nbformat         : 5.9.2\n",
      "notebook         : 7.2.1\n",
      "qtconsole        : 5.5.1\n",
      "traitlets        : 5.14.3\n"
     ]
    }
   ],
   "source": [
    "!jupyter --version"
   ]
  }
 ],
 "metadata": {
  "kernelspec": {
   "display_name": "example",
   "language": "python",
   "name": "example"
  },
  "language_info": {
   "codemirror_mode": {
    "name": "ipython",
    "version": 3
   },
   "file_extension": ".py",
   "mimetype": "text/x-python",
   "name": "python",
   "nbconvert_exporter": "python",
   "pygments_lexer": "ipython3",
   "version": "3.12.2"
  }
 },
 "nbformat": 4,
 "nbformat_minor": 5
}
