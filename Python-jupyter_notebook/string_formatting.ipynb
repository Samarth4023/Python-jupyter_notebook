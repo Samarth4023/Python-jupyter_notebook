{
 "cells": [
  {
   "cell_type": "markdown",
   "id": "2748e988-f714-43b8-a129-e33f4601236d",
   "metadata": {},
   "source": [
    "#### Given an integer, n, print the following values for each integer i from 1 to n:\n",
    "#### 1)Decimal\n",
    "#### 2)Octal\n",
    "#### 3)Hexadecimal (capitalized)\n",
    "#### 4)Binary\n",
    "\n",
    "#### Function Description\n",
    "#### Complete the print_formatted function in the editor below.\n",
    "#### print_formatted has the following parameters:\n",
    "#### int number: the maximum value to print\n",
    "#### Prints\n",
    "#### The four values must be printed on a single line in the order specified above for each i from 1 to number. Each value should be space-padded to match the width of the binary value of number and the values should be separated by a single space.\n",
    "\n",
    "#### Input Format\n",
    "#### A single integer denoting n."
   ]
  },
  {
   "cell_type": "code",
   "execution_count": 3,
   "id": "243a5d97-3e04-411a-a0d4-1710a6da1889",
   "metadata": {},
   "outputs": [
    {
     "name": "stdin",
     "output_type": "stream",
     "text": [
      " 17\n"
     ]
    },
    {
     "name": "stdout",
     "output_type": "stream",
     "text": [
      "1   1   1   1\n",
      "2   2   2   10\n",
      "3   3   3   11\n",
      "4   4   4   100\n",
      "5   5   5   101\n",
      "6   6   6   110\n",
      "7   7   7   111\n",
      "8   10  8   1000\n",
      "9   11  9   1001\n",
      "10  12  A   1010\n",
      "11  13  B   1011\n",
      "12  14  C   1100\n",
      "13  15  D   1101\n",
      "14  16  E   1110\n",
      "15  17  F   1111\n",
      "16  20  10  10000\n",
      "17  21  11  10001\n"
     ]
    }
   ],
   "source": [
    "def print_formatted(number):\n",
    "    # This function prints numbers from 1 to the input number in decimal, octal, hexadecimal, and binary format\n",
    "    \n",
    "    if 1 <= number <= 99:\n",
    "        # Check if the input number is within the valid range (1 to 99)\n",
    "        \n",
    "        for i in range(1, number + 1):\n",
    "            # Iterate through numbers from 1 to the input number\n",
    "            \n",
    "            a = i  # Decimal representation of the number\n",
    "            b = oct(i)  # Octal representation of the number\n",
    "            c = bin(i)  # Binary representation of the number\n",
    "            d = hex(i)  # Hexadecimal representation of the number\n",
    "            \n",
    "            # Convert the representations to strings and format them\n",
    "            A = str(a)\n",
    "            B = str(b)[2:]  # Remove the '0o' prefix from the octal representation\n",
    "            C = str(c)[2:]  # Remove the '0b' prefix from the binary representation\n",
    "            D = str(d)[2:].upper()  # Remove the '0x' prefix and convert to uppercase for the hexadecimal representation\n",
    "            \n",
    "            # Print the formatted output\n",
    "            # Left justify decimal, octal, and hexadecimal values, right justify binary values\n",
    "            print(A.ljust(4) + B.ljust(4) + D.ljust(4) + C.rjust(1))\n",
    "    else:\n",
    "        # If the input number is out of range, print an error message\n",
    "        print('Please enter a value <= 99')\n",
    "\n",
    "if __name__ == '__main__':\n",
    "    # Take user input and call the function\n",
    "    n = int(input())\n",
    "    print_formatted(n)"
   ]
  },
  {
   "cell_type": "code",
   "execution_count": 1,
   "id": "d1f172b0-e3f2-4fc8-9be7-cbf22d06dcdb",
   "metadata": {},
   "outputs": [
    {
     "name": "stdout",
     "output_type": "stream",
     "text": [
      "Selected Jupyter core packages...\n",
      "IPython          : 8.25.0\n",
      "ipykernel        : 6.28.0\n",
      "ipywidgets       : 8.1.2\n",
      "jupyter_client   : 8.6.0\n",
      "jupyter_core     : 5.5.0\n",
      "jupyter_server   : 2.10.0\n",
      "jupyterlab       : 4.2.3\n",
      "nbclient         : 0.8.0\n",
      "nbconvert        : 7.10.0\n",
      "nbformat         : 5.9.2\n",
      "notebook         : 7.2.1\n",
      "qtconsole        : 5.5.1\n",
      "traitlets        : 5.14.3\n"
     ]
    }
   ],
   "source": [
    "!jupyter --version"
   ]
  }
 ],
 "metadata": {
  "kernelspec": {
   "display_name": "example",
   "language": "python",
   "name": "example"
  },
  "language_info": {
   "codemirror_mode": {
    "name": "ipython",
    "version": 3
   },
   "file_extension": ".py",
   "mimetype": "text/x-python",
   "name": "python",
   "nbconvert_exporter": "python",
   "pygments_lexer": "ipython3",
   "version": "3.12.2"
  }
 },
 "nbformat": 4,
 "nbformat_minor": 5
}
