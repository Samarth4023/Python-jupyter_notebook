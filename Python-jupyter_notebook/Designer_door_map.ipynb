{
 "cells": [
  {
   "cell_type": "markdown",
   "id": "d829e531-cfd7-4221-9933-d730426f3625",
   "metadata": {},
   "source": [
    "### Mr. Vincent works in a door mat manufacturing company. One day, he designed a new door mat with the following specifications:\n",
    "### Mat size must be N X M. (N is an odd natural number, and M is 3 times N.)\n",
    "### The design should have 'WELCOME' written in the center.\n",
    "### The design pattern should only use |, . and - characters.\n",
    "### Sample Designs"
   ]
  },
  {
   "cell_type": "code",
   "execution_count": 2,
   "id": "5aba4e3d-d4e7-4d7a-84fb-0d14bcf7444e",
   "metadata": {},
   "outputs": [
    {
     "name": "stdin",
     "output_type": "stream",
     "text": [
      " 7 21\n"
     ]
    },
    {
     "name": "stdout",
     "output_type": "stream",
     "text": [
      "---------.|.---------\n",
      "------.|..|..|.------\n",
      "---.|..|..|..|..|.---\n",
      "-------WELCOME-------\n",
      "---.|..|..|..|..|.---\n",
      "------.|..|..|.------\n",
      "---------.|.---------\n"
     ]
    }
   ],
   "source": [
    "# Function to print a doormat pattern\n",
    "def print_door_mat(N, M):\n",
    "    # Create the pattern for the top half of the doormat\n",
    "    pattern = [('.|.' * (2 * i + 1)).center(M, '-') for i in range(N // 2)]\n",
    "    # Create the welcome line for the middle of the doormat\n",
    "    welcome_line = 'WELCOME'.center(M, '-')\n",
    "    # Combine the top pattern, welcome line, and reversed top pattern to form the full doormat\n",
    "    door_mat = pattern + [welcome_line] + pattern[::-1]\n",
    "    # Print the doormat by joining each line with a newline character\n",
    "    print('\\n'.join(door_mat))\n",
    "\n",
    "# Main block to get input and call the print_door_mat function\n",
    "if __name__ == '__main__':\n",
    "    # Get input for the number of rows (N) and columns (M) in the doormat\n",
    "    N, M = map(int, input().split())\n",
    "    # Call the print_door_mat function with the given dimensions\n",
    "    print_door_mat(N, M)"
   ]
  },
  {
   "cell_type": "code",
   "execution_count": 1,
   "id": "412e29f9-3d24-43b6-b972-e08927f45825",
   "metadata": {},
   "outputs": [
    {
     "name": "stdout",
     "output_type": "stream",
     "text": [
      "Selected Jupyter core packages...\n",
      "IPython          : 8.25.0\n",
      "ipykernel        : 6.28.0\n",
      "ipywidgets       : 8.1.2\n",
      "jupyter_client   : 8.6.0\n",
      "jupyter_core     : 5.5.0\n",
      "jupyter_server   : 2.10.0\n",
      "jupyterlab       : 4.2.3\n",
      "nbclient         : 0.8.0\n",
      "nbconvert        : 7.10.0\n",
      "nbformat         : 5.9.2\n",
      "notebook         : 7.2.1\n",
      "qtconsole        : 5.5.1\n",
      "traitlets        : 5.14.3\n"
     ]
    }
   ],
   "source": [
    "!jupyter --version"
   ]
  }
 ],
 "metadata": {
  "kernelspec": {
   "display_name": "example",
   "language": "python",
   "name": "example"
  },
  "language_info": {
   "codemirror_mode": {
    "name": "ipython",
    "version": 3
   },
   "file_extension": ".py",
   "mimetype": "text/x-python",
   "name": "python",
   "nbconvert_exporter": "python",
   "pygments_lexer": "ipython3",
   "version": "3.12.2"
  }
 },
 "nbformat": 4,
 "nbformat_minor": 5
}
