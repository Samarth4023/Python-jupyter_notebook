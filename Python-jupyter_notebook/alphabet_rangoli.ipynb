{
 "cells": [
  {
   "cell_type": "markdown",
   "id": "d40988cc-5ec0-467c-ad75-455527817bd9",
   "metadata": {},
   "source": [
    "#### You are given an integer, N. Your task is to print an alphabet rangoli of size N. (Rangoli is a form of Indian folk art based on creation of patterns.)\n",
    "#### Different sizes of alphabet rangoli are shown below:\n",
    "\n",
    "#### #size 3\n",
    "\n",
    "##### ----c----\n",
    "##### --c-b-c--\n",
    "##### c-b-a-b-c\n",
    "##### --c-b-c--\n",
    "##### ----c----\n",
    "\n",
    "#### #size 5\n",
    "\n",
    "##### --------e--------\n",
    "##### ------e-d-e------\n",
    "##### ----e-d-c-d-e----\n",
    "##### --e-d-c-b-c-d-e--\n",
    "##### e-d-c-b-a-b-c-d-e\n",
    "##### --e-d-c-b-c-d-e--\n",
    "##### ----e-d-c-d-e----\n",
    "##### ------e-d-e------\n",
    "##### --------e--------\n",
    "\n",
    "#### #size 10\n",
    "\n",
    "##### ------------------j------------------\n",
    "##### ----------------j-i-j----------------\n",
    "##### --------------j-i-h-i-j--------------\n",
    "##### ------------j-i-h-g-h-i-j------------\n",
    "##### ----------j-i-h-g-f-g-h-i-j----------\n",
    "##### --------j-i-h-g-f-e-f-g-h-i-j--------\n",
    "##### ------j-i-h-g-f-e-d-e-f-g-h-i-j------\n",
    "##### ----j-i-h-g-f-e-d-c-d-e-f-g-h-i-j----\n",
    "##### --j-i-h-g-f-e-d-c-b-c-d-e-f-g-h-i-j--\n",
    "##### j-i-h-g-f-e-d-c-b-a-b-c-d-e-f-g-h-i-j\n",
    "##### --j-i-h-g-f-e-d-c-b-c-d-e-f-g-h-i-j--\n",
    "##### ----j-i-h-g-f-e-d-c-d-e-f-g-h-i-j----\n",
    "##### ------j-i-h-g-f-e-d-e-f-g-h-i-j------\n",
    "##### --------j-i-h-g-f-e-f-g-h-i-j--------\n",
    "##### ----------j-i-h-g-f-g-h-i-j----------\n",
    "##### ------------j-i-h-g-h-i-j------------\n",
    "##### --------------j-i-h-i-j--------------\n",
    "##### ----------------j-i-j----------------\n",
    "##### ------------------j------------------\n",
    "\n",
    "\n",
    "#### The center of the rangoli has the first alphabet letter a, and the boundary has the Nth alphabet letter (in alphabetical order).\n",
    "#### Function Description\n",
    "#### Complete the rangoli function in the editor below.\n",
    "#### rangoli has the following parameters:\n",
    "#### int size: the size of the rangoli\n",
    "#### Returns\n",
    "#### string: a single string made up of each of the lines of the rangoli separated by a newline character (\\n)\n",
    "#### Input Format\n",
    "#### Only one line of input containing size, the size of the rangoli."
   ]
  },
  {
   "cell_type": "code",
   "execution_count": 2,
   "id": "7306425b-f580-47af-98d7-eabcb9ac9b92",
   "metadata": {},
   "outputs": [
    {
     "name": "stdout",
     "output_type": "stream",
     "text": [
      " 7\n"
     ]
    },
    {
     "name": "stdout",
     "output_type": "stream",
     "text": [
      "------------g------------\n",
      "----------g-f-g----------\n",
      "--------g-f-e-f-g--------\n",
      "------g-f-e-d-e-f-g------\n",
      "----g-f-e-d-c-d-e-f-g----\n",
      "--g-f-e-d-c-b-c-d-e-f-g--\n",
      "g-f-e-d-c-b-a-b-c-d-e-f-g\n",
      "--g-f-e-d-c-b-c-d-e-f-g--\n",
      "----g-f-e-d-c-d-e-f-g----\n",
      "------g-f-e-d-e-f-g------\n",
      "--------g-f-e-f-g--------\n",
      "----------g-f-g----------\n",
      "------------g------------\n"
     ]
    }
   ],
   "source": [
    "def print_rangoli(s):\n",
    "    # Define a string of lowercase alphabet letters\n",
    "    ab = 'abcdefghijklmnopqrstuvwxyz'\n",
    "    \n",
    "    # Calculate the width of the midline of the rangoli pattern\n",
    "    mid = ((s + (s - 1)) * 2) - 1\n",
    "    \n",
    "    # Initialize a list to store the lines of the rangoli\n",
    "    rev = []\n",
    "    \n",
    "    # Loop to create the top half of the rangoli\n",
    "    for i in range(s):\n",
    "        r = ''  # Initialize an empty string for the left part of the line\n",
    "        k = ''  # Initialize an empty string for the right part of the line\n",
    "        \n",
    "        # Inner loop to construct each line\n",
    "        for j in range(i + 1):\n",
    "            if j == i:\n",
    "                # If it's the last character in the current line\n",
    "                r += ab[s - 1 - j]  # Add the character from the alphabet\n",
    "                top = r + k[::-1]  # Combine left part and reversed right part\n",
    "                t = top.center(mid, \"-\")  # Center the line with dashes\n",
    "                rev.append(t)  # Add the line to the list\n",
    "                print(t)  # Print the current line\n",
    "            else:\n",
    "                # For other characters in the line\n",
    "                r += ab[s - 1 - j] + \"-\"  # Add character with a dash\n",
    "                k = r  # Update the right part of the line\n",
    "    \n",
    "    # Loop to create the bottom half of the rangoli by reversing the top half\n",
    "    for i in range(s - 1):\n",
    "        print(rev[s - 2 - i])  # Print the reversed lines from the top half\n",
    "\n",
    "if __name__ == '__main__':\n",
    "    n = int(input())  # Read an integer input\n",
    "    print_rangoli(n)  # Call the function with the input value"
   ]
  },
  {
   "cell_type": "code",
   "execution_count": 1,
   "id": "659c177e-a558-46cc-8c74-5eb9935142cc",
   "metadata": {},
   "outputs": [
    {
     "name": "stdout",
     "output_type": "stream",
     "text": [
      "Selected Jupyter core packages...\n",
      "IPython          : 8.25.0\n",
      "ipykernel        : 6.28.0\n",
      "ipywidgets       : 8.1.2\n",
      "jupyter_client   : 8.6.0\n",
      "jupyter_core     : 5.5.0\n",
      "jupyter_server   : 2.10.0\n",
      "jupyterlab       : 4.2.3\n",
      "nbclient         : 0.8.0\n",
      "nbconvert        : 7.10.0\n",
      "nbformat         : 5.9.2\n",
      "notebook         : 7.2.1\n",
      "qtconsole        : 5.5.1\n",
      "traitlets        : 5.14.3\n"
     ]
    }
   ],
   "source": [
    "!jupyter --version"
   ]
  },
  {
   "cell_type": "code",
   "execution_count": 1,
   "id": "0be72d1b",
   "metadata": {},
   "outputs": [
    {
     "name": "stdout",
     "output_type": "stream",
     "text": [
      "Python 3.12.2\n"
     ]
    }
   ],
   "source": [
    "!python --version"
   ]
  }
 ],
 "metadata": {
  "kernelspec": {
   "display_name": "example",
   "language": "python",
   "name": "python3"
  },
  "language_info": {
   "codemirror_mode": {
    "name": "ipython",
    "version": 3
   },
   "file_extension": ".py",
   "mimetype": "text/x-python",
   "name": "python",
   "nbconvert_exporter": "python",
   "pygments_lexer": "ipython3",
   "version": "3.12.2"
  }
 },
 "nbformat": 4,
 "nbformat_minor": 5
}
