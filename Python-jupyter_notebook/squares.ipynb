{
 "cells": [
  {
   "cell_type": "markdown",
   "id": "78414f71-14e1-4a2b-b2a4-c0b657cf1dcd",
   "metadata": {},
   "source": [
    "# Task\n",
    "### The provided code stub reads and integer, n, from STDIN. For all non-negative integers i<n, print i^2.\n",
    "### Example\n",
    "### The list of non-negative integers that are less than n=3 is [0, 1, 2]. Print the square of each number on a separate line."
   ]
  },
  {
   "cell_type": "code",
   "execution_count": 4,
   "id": "73050008-14ad-410f-91d7-70f71f603b33",
   "metadata": {},
   "outputs": [
    {
     "name": "stdin",
     "output_type": "stream",
     "text": [
      "Enter a number:  5\n"
     ]
    },
    {
     "name": "stdout",
     "output_type": "stream",
     "text": [
      "0\n",
      "1\n",
      "4\n",
      "9\n",
      "16\n"
     ]
    }
   ],
   "source": [
    "if __name__ == '__main__':\n",
    "    # This block ensures that the following code only runs when the script is executed directly,\n",
    "    # not when it's imported as a module in another script.\n",
    "    n = int(input(\"Enter a number: \"))  # Taking input from the user and converting it to an integer\n",
    "\n",
    "# Loop from 0 to n-1\n",
    "for i in range(n):\n",
    "    # Print the square of the current value of i\n",
    "    print(i**2)"
   ]
  },
  {
   "cell_type": "code",
   "execution_count": 1,
   "id": "260c023b-5dc4-4a63-9ba2-53bf5b5a1f00",
   "metadata": {},
   "outputs": [
    {
     "name": "stdout",
     "output_type": "stream",
     "text": [
      "Selected Jupyter core packages...\n",
      "IPython          : 8.25.0\n",
      "ipykernel        : 6.28.0\n",
      "ipywidgets       : 8.1.2\n",
      "jupyter_client   : 8.6.0\n",
      "jupyter_core     : 5.5.0\n",
      "jupyter_server   : 2.10.0\n",
      "jupyterlab       : 4.2.3\n",
      "nbclient         : 0.8.0\n",
      "nbconvert        : 7.10.0\n",
      "nbformat         : 5.9.2\n",
      "notebook         : 7.2.1\n",
      "qtconsole        : 5.5.1\n",
      "traitlets        : 5.14.3\n"
     ]
    }
   ],
   "source": [
    "!jupyter --version"
   ]
  }
 ],
 "metadata": {
  "kernelspec": {
   "display_name": "example",
   "language": "python",
   "name": "example"
  },
  "language_info": {
   "codemirror_mode": {
    "name": "ipython",
    "version": 3
   },
   "file_extension": ".py",
   "mimetype": "text/x-python",
   "name": "python",
   "nbconvert_exporter": "python",
   "pygments_lexer": "ipython3",
   "version": "3.12.2"
  }
 },
 "nbformat": 4,
 "nbformat_minor": 5
}
