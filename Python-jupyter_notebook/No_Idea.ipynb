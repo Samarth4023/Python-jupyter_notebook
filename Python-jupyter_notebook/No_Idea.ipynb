{
 "cells": [
  {
   "cell_type": "markdown",
   "id": "ee1f87de-69d2-492a-a50b-1013fe703ab1",
   "metadata": {},
   "source": [
    "# There is an array of n integers. There are also 2 disjoint sets, A and B, each containing m integers. You like all the integers in set A and dislike all the integers in set B. Your initial happiness is 0. For each i integer in the array, if i e B, you add -1 to your happiness. If , you add  to your happiness. Otherwise, your happiness does not change. Output your final happiness at the end.\r\n",
    "\r\n",
    "# Note: Since A and B are sets, they have no repeated elements. However, the array might contain duplicate elements.\r\n",
    "\r\n",
    "# Input Format\r\n",
    "\r\n",
    "# The first line contains integers n and m separated by a space.\r\n",
    "# The second line contains n integers, the elements of the array.\r\n",
    "# The third and fourth lines contain m integers, A and ,B respectively.\r\n",
    "# Enter your code here. Read input from STDIN. Print output to STDOUT. to STDOUT"
   ]
  },
  {
   "cell_type": "code",
   "execution_count": 5,
   "id": "0eb15c9d-fd95-42d4-a1a5-da9eea9e8b32",
   "metadata": {
    "jp-MarkdownHeadingCollapsed": true
   },
   "outputs": [
    {
     "name": "stdin",
     "output_type": "stream",
     "text": [
      " 3 2\n",
      " 1 5 3\n",
      " 3 1\n",
      " 5 7\n"
     ]
    },
    {
     "name": "stdout",
     "output_type": "stream",
     "text": [
      "1\n"
     ]
    }
   ],
   "source": [
    "### Read integers n (number of elements in the array) and m (size of sets A and B)\n",
    "n, m = map(int, input().split())\n",
    "\n",
    "# Read the elements of the array\n",
    "arr = list(map(int, input().split()))\n",
    "\n",
    "# Read the elements of set A\n",
    "set_A = set(map(int, input().split()))\n",
    "\n",
    "# Read the elements of set B\n",
    "set_B = set(map(int, input().split()))\n",
    "\n",
    "# Initialize happiness score to zero\n",
    "ini_happ = 0\n",
    "\n",
    "# Iterate over each element in the array\n",
    "for x in arr:\n",
    "    # If the element is in set A, increase happiness\n",
    "    if x in set_A:\n",
    "        ini_happ += 1\n",
    "    # If the element is in set B, decrease happiness\n",
    "    elif x in set_B:\n",
    "        ini_happ -= 1\n",
    "\n",
    "# Print the final happiness score\n",
    "print(ini_happ)"
   ]
  },
  {
   "cell_type": "code",
   "execution_count": 1,
   "id": "da8443a1-5d01-40fb-bed1-e622215d2e51",
   "metadata": {},
   "outputs": [
    {
     "name": "stdout",
     "output_type": "stream",
     "text": [
      "Selected Jupyter core packages...\n",
      "IPython          : 8.25.0\n",
      "ipykernel        : 6.28.0\n",
      "ipywidgets       : 8.1.2\n",
      "jupyter_client   : 8.6.0\n",
      "jupyter_core     : 5.5.0\n",
      "jupyter_server   : 2.10.0\n",
      "jupyterlab       : 4.2.3\n",
      "nbclient         : 0.8.0\n",
      "nbconvert        : 7.10.0\n",
      "nbformat         : 5.9.2\n",
      "notebook         : 7.2.1\n",
      "qtconsole        : 5.5.1\n",
      "traitlets        : 5.14.3\n"
     ]
    }
   ],
   "source": [
    "!jupyter --version"
   ]
  }
 ],
 "metadata": {
  "kernelspec": {
   "display_name": "example",
   "language": "python",
   "name": "example"
  },
  "language_info": {
   "codemirror_mode": {
    "name": "ipython",
    "version": 3
   },
   "file_extension": ".py",
   "mimetype": "text/x-python",
   "name": "python",
   "nbconvert_exporter": "python",
   "pygments_lexer": "ipython3",
   "version": "3.12.2"
  }
 },
 "nbformat": 4,
 "nbformat_minor": 5
}
