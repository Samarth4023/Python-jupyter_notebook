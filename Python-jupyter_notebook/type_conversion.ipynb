{
 "cells": [
  {
   "cell_type": "code",
   "execution_count": 6,
   "id": "44f7fefa-ac24-4cfc-b6f1-0cb392fa5b55",
   "metadata": {},
   "outputs": [
    {
     "name": "stdout",
     "output_type": "stream",
     "text": [
      "49\n",
      "45.0\n",
      "4\n",
      "4.0\n"
     ]
    }
   ],
   "source": [
    "print(int(49.79))\n",
    "# float to integer TC\n",
    "print(float(45))\n",
    "# integer to float TC\n",
    "print(int(16/4))\n",
    "# TC with operation(int)\n",
    "print(float(16/4))\n",
    "# TC with operation(float)"
   ]
  },
  {
   "cell_type": "code",
   "execution_count": 8,
   "id": "c64142a9-a841-4287-ad1a-499d74de4aa2",
   "metadata": {},
   "outputs": [
    {
     "name": "stdout",
     "output_type": "stream",
     "text": [
      "0.30000000000000004\n"
     ]
    }
   ],
   "source": [
    "print(0.1+0.1+0.1)\n",
    "# the output will be 0.30000000000000004 because float can represent enormous range of numbers. \n",
    "# So, in order to fit numbers into computers memory, python has to consider approximations"
   ]
  },
  {
   "cell_type": "code",
   "execution_count": 1,
   "id": "2346fd58-2d6d-492b-a57b-671710a5f41c",
   "metadata": {},
   "outputs": [
    {
     "name": "stdout",
     "output_type": "stream",
     "text": [
      "Selected Jupyter core packages...\n",
      "IPython          : 8.25.0\n",
      "ipykernel        : 6.28.0\n",
      "ipywidgets       : 8.1.2\n",
      "jupyter_client   : 8.6.0\n",
      "jupyter_core     : 5.5.0\n",
      "jupyter_server   : 2.10.0\n",
      "jupyterlab       : 4.2.3\n",
      "nbclient         : 0.8.0\n",
      "nbconvert        : 7.10.0\n",
      "nbformat         : 5.9.2\n",
      "notebook         : 7.2.1\n",
      "qtconsole        : 5.5.1\n",
      "traitlets        : 5.14.3\n"
     ]
    }
   ],
   "source": [
    "!jupyter --version"
   ]
  }
 ],
 "metadata": {
  "kernelspec": {
   "display_name": "Python 3 (ipykernel)",
   "language": "python",
   "name": "python3"
  },
  "language_info": {
   "codemirror_mode": {
    "name": "ipython",
    "version": 3
   },
   "file_extension": ".py",
   "mimetype": "text/x-python",
   "name": "python",
   "nbconvert_exporter": "python",
   "pygments_lexer": "ipython3",
   "version": "3.12.2"
  }
 },
 "nbformat": 4,
 "nbformat_minor": 5
}
