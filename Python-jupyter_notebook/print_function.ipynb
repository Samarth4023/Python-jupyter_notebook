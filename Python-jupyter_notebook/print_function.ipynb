{
 "cells": [
  {
   "cell_type": "markdown",
   "id": "e296046f-b7c3-4cc9-a935-77d3f8d074f8",
   "metadata": {},
   "source": [
    "### The included code stub will read an integer, n, from STDIN.\n",
    "### Without using any string methods, try to print the following: 123....n\n",
    "### Note that \"....\" represents the consecutive values in between.\n",
    "### Example: n = 5\n",
    "### Print the string 12345."
   ]
  },
  {
   "cell_type": "code",
   "execution_count": 4,
   "id": "baaf4ea5-4b02-408d-a879-0123803fb70b",
   "metadata": {},
   "outputs": [
    {
     "name": "stdin",
     "output_type": "stream",
     "text": [
      " 5\n"
     ]
    },
    {
     "name": "stdout",
     "output_type": "stream",
     "text": [
      "12345"
     ]
    }
   ],
   "source": [
    "# Entry point of the script\n",
    "if __name__ == '__main__':\n",
    "    # Read an integer input from the user\n",
    "    n = int(input())\n",
    "    \n",
    "# Loop from 1 to n (inclusive)\n",
    "for i in range(1, n+1):\n",
    "    # Print the current number followed by a space, without moving to a new line\n",
    "    print(i, end='')"
   ]
  },
  {
   "cell_type": "code",
   "execution_count": 1,
   "id": "5f5004ff-b2f4-4881-9be0-c0f8ad539ba5",
   "metadata": {},
   "outputs": [
    {
     "name": "stdout",
     "output_type": "stream",
     "text": [
      "Selected Jupyter core packages...\n",
      "IPython          : 8.25.0\n",
      "ipykernel        : 6.28.0\n",
      "ipywidgets       : 8.1.2\n",
      "jupyter_client   : 8.6.0\n",
      "jupyter_core     : 5.5.0\n",
      "jupyter_server   : 2.10.0\n",
      "jupyterlab       : 4.2.3\n",
      "nbclient         : 0.8.0\n",
      "nbconvert        : 7.10.0\n",
      "nbformat         : 5.9.2\n",
      "notebook         : 7.2.1\n",
      "qtconsole        : 5.5.1\n",
      "traitlets        : 5.14.3\n"
     ]
    }
   ],
   "source": [
    "!jupyter --version"
   ]
  }
 ],
 "metadata": {
  "kernelspec": {
   "display_name": "example",
   "language": "python",
   "name": "example"
  },
  "language_info": {
   "codemirror_mode": {
    "name": "ipython",
    "version": 3
   },
   "file_extension": ".py",
   "mimetype": "text/x-python",
   "name": "python",
   "nbconvert_exporter": "python",
   "pygments_lexer": "ipython3",
   "version": "3.12.2"
  }
 },
 "nbformat": 4,
 "nbformat_minor": 5
}
