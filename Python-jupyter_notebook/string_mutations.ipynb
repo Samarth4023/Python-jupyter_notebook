{
 "cells": [
  {
   "cell_type": "markdown",
   "id": "0dee32b5-eb08-4b7b-9401-90c1a30b0361",
   "metadata": {},
   "source": [
    "# Task\n",
    "#### Read a given string, change the character at a given index and then print the modified string.\n",
    "#### Function Description\n",
    "#### Complete the mutate_string function in the editor below.\n",
    "#### mutate_string has the following parameters:\n",
    "#### string string: the string to change\n",
    "#### int position: the index to insert the character at\n",
    "#### string character: the character to insert\n",
    "#### Returns\n",
    "#### string: the altered string"
   ]
  },
  {
   "cell_type": "code",
   "execution_count": 2,
   "id": "34f1ad9d-85dc-48ad-a1f8-ca9d9fd2f763",
   "metadata": {},
   "outputs": [
    {
     "name": "stdin",
     "output_type": "stream",
     "text": [
      " abracadabra\n",
      " 5 k\n"
     ]
    },
    {
     "name": "stdout",
     "output_type": "stream",
     "text": [
      "abrackdabra\n"
     ]
    },
    {
     "name": "stdin",
     "output_type": "stream",
     "text": [
      "Enter the string:  abracadabra\n",
      "Enter the position and character (space-separated):  5 k\n"
     ]
    },
    {
     "name": "stdout",
     "output_type": "stream",
     "text": [
      "Mutated string: abrackdabra\n"
     ]
    }
   ],
   "source": [
    "# Define a function to mutate a string at a specified position with a given character\n",
    "def mutate_string(string, position, character):\n",
    "    # Convert the string to a list to allow mutation\n",
    "    l = list(string)\n",
    "    # Update the character at the specified position in the list\n",
    "    l[position] = character\n",
    "    # Join the list back into a string and return the mutated string\n",
    "    return ''.join(l)\n",
    "\n",
    "# Main function\n",
    "if __name__ == '__main__':\n",
    "    # Take input for the original string\n",
    "    s = input()\n",
    "    # Take input for the position and character to mutate\n",
    "    i, c = input().split()\n",
    "    # Call the mutate_string function with inputs and store the mutated string\n",
    "    s_new = mutate_string(s, int(i), c)\n",
    "    # Print the mutated string\n",
    "    print(s_new)\n",
    "\n",
    "\n",
    "#-------------------------OR------------------------\n",
    "\n",
    "\n",
    "# Function to mutate a string at a given position with a new character\n",
    "def mutate_string(string, position, character):\n",
    "    # Create a new string by replacing the character at the specified position\n",
    "    new_string = string[:position] + character + string[position + 1:]\n",
    "    return new_string\n",
    "\n",
    "# Main program\n",
    "if __name__ == '__main__':\n",
    "    # Input a string\n",
    "    s = input(\"Enter the string: \")\n",
    "    # Input the position and character to replace\n",
    "    i, c = input(\"Enter the position and character (space-separated): \").split()\n",
    "    # Call the mutate_string function to get the mutated string\n",
    "    s_new = mutate_string(s, int(i), c)\n",
    "    # Print the mutated string\n",
    "    print(\"Mutated string:\", s_new)"
   ]
  },
  {
   "cell_type": "code",
   "execution_count": 1,
   "id": "8f9a8bbf-d4f7-4b87-b3cd-d272c4559a1a",
   "metadata": {},
   "outputs": [
    {
     "name": "stdout",
     "output_type": "stream",
     "text": [
      "Selected Jupyter core packages...\n",
      "IPython          : 8.25.0\n",
      "ipykernel        : 6.28.0\n",
      "ipywidgets       : 8.1.2\n",
      "jupyter_client   : 8.6.0\n",
      "jupyter_core     : 5.5.0\n",
      "jupyter_server   : 2.10.0\n",
      "jupyterlab       : 4.2.3\n",
      "nbclient         : 0.8.0\n",
      "nbconvert        : 7.10.0\n",
      "nbformat         : 5.9.2\n",
      "notebook         : 7.2.1\n",
      "qtconsole        : 5.5.1\n",
      "traitlets        : 5.14.3\n"
     ]
    }
   ],
   "source": [
    "!jupyter --version"
   ]
  }
 ],
 "metadata": {
  "kernelspec": {
   "display_name": "example",
   "language": "python",
   "name": "example"
  },
  "language_info": {
   "codemirror_mode": {
    "name": "ipython",
    "version": 3
   },
   "file_extension": ".py",
   "mimetype": "text/x-python",
   "name": "python",
   "nbconvert_exporter": "python",
   "pygments_lexer": "ipython3",
   "version": "3.12.2"
  }
 },
 "nbformat": 4,
 "nbformat_minor": 5
}
