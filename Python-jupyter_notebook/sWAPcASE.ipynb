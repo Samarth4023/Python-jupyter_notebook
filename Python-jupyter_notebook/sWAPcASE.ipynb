{
 "cells": [
  {
   "cell_type": "markdown",
   "id": "673cb723-a67a-45bd-a721-4755f02fdee8",
   "metadata": {},
   "source": [
    "### You are given a string and your task is to swap cases. In other words, convert all lowercase letters to uppercase letters and vice versa.\n",
    "\n",
    "### Function Description\n",
    "### Complete the swap_case function in the editor below.\n",
    "### swap_case has the following parameters:\n",
    "### string s: the string to modify\n",
    "### Returns string: the modified string\n",
    "### Input Format\n",
    "### A single line containing a string s"
   ]
  },
  {
   "cell_type": "code",
   "execution_count": 3,
   "id": "b76bb802-64d4-4552-960a-4a9da91ef136",
   "metadata": {},
   "outputs": [
    {
     "name": "stdin",
     "output_type": "stream",
     "text": [
      " hEELo mY NaMe iS sAMARTH Pujari!\n"
     ]
    },
    {
     "name": "stdout",
     "output_type": "stream",
     "text": [
      "HeelO My nAmE Is Samarth pUJARI!\n"
     ]
    }
   ],
   "source": [
    "# Define a function to swap the case of characters in a string\n",
    "def swap_case(s):\n",
    "    return s.swapcase()\n",
    "\n",
    "# Check if the script is being run as the main program\n",
    "if __name__ == '__main__':\n",
    "    # Get input from the user\n",
    "    s = input()\n",
    "    # Call the swap_case function to swap the case of characters in the input string\n",
    "    result = swap_case(s)\n",
    "    # Print the result after swapping the case\n",
    "    print(result)"
   ]
  },
  {
   "cell_type": "code",
   "execution_count": 2,
   "id": "6fa751e5-65df-4289-aa49-82d60047c4a1",
   "metadata": {},
   "outputs": [
    {
     "name": "stdout",
     "output_type": "stream",
     "text": [
      "Selected Jupyter core packages...\n",
      "IPython          : 8.25.0\n",
      "ipykernel        : 6.28.0\n",
      "ipywidgets       : 8.1.2\n",
      "jupyter_client   : 8.6.0\n",
      "jupyter_core     : 5.5.0\n",
      "jupyter_server   : 2.10.0\n",
      "jupyterlab       : 4.2.3\n",
      "nbclient         : 0.8.0\n",
      "nbconvert        : 7.10.0\n",
      "nbformat         : 5.9.2\n",
      "notebook         : 7.2.1\n",
      "qtconsole        : 5.5.1\n",
      "traitlets        : 5.14.3\n"
     ]
    }
   ],
   "source": [
    "!jupyter --version"
   ]
  }
 ],
 "metadata": {
  "kernelspec": {
   "display_name": "example",
   "language": "python",
   "name": "example"
  },
  "language_info": {
   "codemirror_mode": {
    "name": "ipython",
    "version": 3
   },
   "file_extension": ".py",
   "mimetype": "text/x-python",
   "name": "python",
   "nbconvert_exporter": "python",
   "pygments_lexer": "ipython3",
   "version": "3.12.2"
  }
 },
 "nbformat": 4,
 "nbformat_minor": 5
}
