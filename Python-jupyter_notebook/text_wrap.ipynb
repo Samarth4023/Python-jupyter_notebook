{
 "cells": [
  {
   "cell_type": "markdown",
   "id": "c3bd0808-2ee2-4915-819b-36e12e896315",
   "metadata": {},
   "source": [
    "#### You are given a string s and width w.\n",
    "#### Your task is to wrap the string into a paragraph of width w.\n",
    "#### Function Description\n",
    "#### Complete the wrap function in the editor below.\n",
    "#### wrap has the following parameters:\n",
    "#### string string: a long string\n",
    "#### int max_width: the width to wrap to\n",
    "#### Returns\n",
    "#### string: a single string with newline characters ('\\n') where the breaks should be\n",
    "#### Input Format\n",
    "#### The first line contains a string, string.\n",
    "#### The second line contains the width, max_width."
   ]
  },
  {
   "cell_type": "code",
   "execution_count": 2,
   "id": "7875cbb1-0620-4a39-a166-4c29f7455b77",
   "metadata": {},
   "outputs": [
    {
     "name": "stdin",
     "output_type": "stream",
     "text": [
      " ASDFGHJKLPOIUYTREWWQZXCVBNM\n",
      " 4\n"
     ]
    },
    {
     "name": "stdout",
     "output_type": "stream",
     "text": [
      "ASDF\n",
      "GHJK\n",
      "LPOI\n",
      "UYTR\n",
      "EWWQ\n",
      "ZXCV\n",
      "BNM\n"
     ]
    }
   ],
   "source": [
    "import textwrap\n",
    "\n",
    "def wrap(string, max_width):\n",
    "    # Using textwrap.fill to wrap the input string to the specified max_width\n",
    "    return textwrap.fill(string, max_width)\n",
    "    # Alternative approach: using textwrap.wrap to get a list of wrapped lines\n",
    "    # return textwrap.wrap(string, max_width)\n",
    "\n",
    "if __name__ == '__main__':\n",
    "    # Taking user input for the string to wrap and the maximum width\n",
    "    string, max_width = input(), int(input())\n",
    "    # Wrapping the string using the wrap function\n",
    "    result = wrap(string, max_width)\n",
    "    # Printing the wrapped string\n",
    "    print(result)"
   ]
  },
  {
   "cell_type": "code",
   "execution_count": 1,
   "id": "5570605b-6148-4732-8b03-0b5b9f6c7bb1",
   "metadata": {},
   "outputs": [
    {
     "name": "stdout",
     "output_type": "stream",
     "text": [
      "Selected Jupyter core packages...\n",
      "IPython          : 8.25.0\n",
      "ipykernel        : 6.28.0\n",
      "ipywidgets       : 8.1.2\n",
      "jupyter_client   : 8.6.0\n",
      "jupyter_core     : 5.5.0\n",
      "jupyter_server   : 2.10.0\n",
      "jupyterlab       : 4.2.3\n",
      "nbclient         : 0.8.0\n",
      "nbconvert        : 7.10.0\n",
      "nbformat         : 5.9.2\n",
      "notebook         : 7.2.1\n",
      "qtconsole        : 5.5.1\n",
      "traitlets        : 5.14.3\n"
     ]
    }
   ],
   "source": [
    "!jupyter --version"
   ]
  }
 ],
 "metadata": {
  "kernelspec": {
   "display_name": "example",
   "language": "python",
   "name": "example"
  },
  "language_info": {
   "codemirror_mode": {
    "name": "ipython",
    "version": 3
   },
   "file_extension": ".py",
   "mimetype": "text/x-python",
   "name": "python",
   "nbconvert_exporter": "python",
   "pygments_lexer": "ipython3",
   "version": "3.12.2"
  }
 },
 "nbformat": 4,
 "nbformat_minor": 5
}
