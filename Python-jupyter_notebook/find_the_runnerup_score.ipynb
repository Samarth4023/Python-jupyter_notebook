{
 "cells": [
  {
   "cell_type": "markdown",
   "id": "8d53c163-f3ce-40b7-8036-722cbfa322fb",
   "metadata": {},
   "source": [
    "### Given the participants' score sheet for your University Sports Day, you are required to find the runner-up score. You are given n scores. Store them in a list and find the score of the runner-up."
   ]
  },
  {
   "cell_type": "code",
   "execution_count": 3,
   "id": "36ffbcdf-d0cb-4486-b077-423420e954a1",
   "metadata": {},
   "outputs": [
    {
     "name": "stdin",
     "output_type": "stream",
     "text": [
      "Enter the number of participants:  3\n",
      "Enter the scores separated by spaces:  45 56 53\n"
     ]
    },
    {
     "name": "stdout",
     "output_type": "stream",
     "text": [
      "Runner-up score: 53\n"
     ]
    }
   ],
   "source": [
    "# Define a function to find the runner-up score\n",
    "def find_runner_up_score():\n",
    "    n = int(input(\"Enter the number of participants: \"))  # Read the number of participants\n",
    "    scores = list(map(int, input(\"Enter the scores separated by spaces: \").split()))  # Read the scores into a list\n",
    "\n",
    "    # Find the maximum score\n",
    "    max_score = max(scores)\n",
    "    \n",
    "    # Remove all occurrences of the maximum score\n",
    "    while max_score in scores:\n",
    "        scores.remove(max_score)\n",
    "    \n",
    "    # The runner-up score is now the maximum of the remaining scores\n",
    "    runner_up_score = max(scores)\n",
    "    \n",
    "    print(\"Runner-up score:\", runner_up_score)\n",
    "\n",
    "# Call the function\n",
    "find_runner_up_score()"
   ]
  },
  {
   "cell_type": "code",
   "execution_count": 1,
   "id": "e12a7402-8d28-42a1-b28f-43c90f27374e",
   "metadata": {},
   "outputs": [
    {
     "name": "stdout",
     "output_type": "stream",
     "text": [
      "Selected Jupyter core packages...\n",
      "IPython          : 8.25.0\n",
      "ipykernel        : 6.28.0\n",
      "ipywidgets       : 8.1.2\n",
      "jupyter_client   : 8.6.0\n",
      "jupyter_core     : 5.5.0\n",
      "jupyter_server   : 2.10.0\n",
      "jupyterlab       : 4.2.3\n",
      "nbclient         : 0.8.0\n",
      "nbconvert        : 7.10.0\n",
      "nbformat         : 5.9.2\n",
      "notebook         : 7.2.1\n",
      "qtconsole        : 5.5.1\n",
      "traitlets        : 5.14.3\n"
     ]
    }
   ],
   "source": [
    "!jupyter --version"
   ]
  }
 ],
 "metadata": {
  "kernelspec": {
   "display_name": "example",
   "language": "python",
   "name": "example"
  },
  "language_info": {
   "codemirror_mode": {
    "name": "ipython",
    "version": 3
   },
   "file_extension": ".py",
   "mimetype": "text/x-python",
   "name": "python",
   "nbconvert_exporter": "python",
   "pygments_lexer": "ipython3",
   "version": "3.12.2"
  }
 },
 "nbformat": 4,
 "nbformat_minor": 5
}
