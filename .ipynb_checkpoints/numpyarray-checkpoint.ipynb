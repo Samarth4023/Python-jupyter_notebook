{
 "cells": [
  {
   "cell_type": "markdown",
   "id": "ab1bcccf-1d49-4e20-8805-7ae34816ff3a",
   "metadata": {},
   "source": [
    "## The NumPy (Numeric Python) package helps us manipulate large arrays and matrices of numeric data.\n",
    "\n",
    "#### To use the NumPy module, we need to import it using:\n",
    "import numpy\n",
    "Arrays\n",
    "A NumPy array is a grid of values. They are similar to lists, except that every element of an array must be the same type.\n",
    "import numpy\n",
    "a = numpy.array([1,2,3,4,5])\n",
    "print a[1]          #2\n",
    "\n",
    "b = numpy.array([1,2,3,4,5],float)\n",
    "print b[1]          #2.0\n",
    "In the above example, numpy.array() is used to convert a list into a NumPy array. The second argument (float) can be used to set the type of array elements.\n",
    "\n",
    "### Task\n",
    "You are given a space separated list of numbers.\n",
    "Your task is to print a reversed NumPy array with the element type float.\n",
    "\n",
    "#### Input Format\n",
    "A single line of input containing space separated numbers.\n",
    "#### Output Format\n",
    "Print the reverse NumPy array with type float."
   ]
  },
  {
   "cell_type": "code",
   "execution_count": 1,
   "id": "abb60f04-c1cb-40ca-9776-ef8ee71fd386",
   "metadata": {},
   "outputs": [
    {
     "name": "stdin",
     "output_type": "stream",
     "text": [
      " 10 25 5 4 9 2\n"
     ]
    },
    {
     "name": "stdout",
     "output_type": "stream",
     "text": [
      "[ 2.  9.  4.  5. 25. 10.]\n"
     ]
    }
   ],
   "source": [
    "import numpy\n",
    "\n",
    "def arrays(arr):\n",
    "    # complete this function\n",
    "    # use numpy.array\n",
    "    arr = numpy.array(arr, dtype=float)\n",
    "    return arr[::-1]\n",
    "\n",
    "arr = input().strip().split(' ')\n",
    "result = arrays(arr)\n",
    "print(result)"
   ]
  },
  {
   "cell_type": "code",
   "execution_count": 1,
   "id": "74959b18-5054-42ba-abd2-462c24465a34",
   "metadata": {},
   "outputs": [
    {
     "name": "stdout",
     "output_type": "stream",
     "text": [
      "Selected Jupyter core packages...\n",
      "IPython          : 8.25.0\n",
      "ipykernel        : 6.28.0\n",
      "ipywidgets       : 8.1.2\n",
      "jupyter_client   : 8.6.0\n",
      "jupyter_core     : 5.5.0\n",
      "jupyter_server   : 2.10.0\n",
      "jupyterlab       : 4.2.3\n",
      "nbclient         : 0.8.0\n",
      "nbconvert        : 7.10.0\n",
      "nbformat         : 5.9.2\n",
      "notebook         : 7.2.1\n",
      "qtconsole        : 5.5.1\n",
      "traitlets        : 5.14.3\n"
     ]
    }
   ],
   "source": [
    "!jupyter --version"
   ]
  }
 ],
 "metadata": {
  "kernelspec": {
   "display_name": "example",
   "language": "python",
   "name": "example"
  },
  "language_info": {
   "codemirror_mode": {
    "name": "ipython",
    "version": 3
   },
   "file_extension": ".py",
   "mimetype": "text/x-python",
   "name": "python",
   "nbconvert_exporter": "python",
   "pygments_lexer": "ipython3",
   "version": "3.12.2"
  }
 },
 "nbformat": 4,
 "nbformat_minor": 5
}
