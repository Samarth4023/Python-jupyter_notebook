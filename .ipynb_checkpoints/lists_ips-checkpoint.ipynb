{
 "cells": [
  {
   "cell_type": "markdown",
   "id": "c15484d1-f7d7-4def-b1d9-95cb541296f2",
   "metadata": {},
   "source": [
    "# Consider a list (list = []). You can perform the following commands:\n",
    "\n",
    "#### insert i e: Insert integer e at position i.\n",
    "#### print: Print the list.\n",
    "#### remove e: Delete the first occurrence of integer e.\n",
    "#### append e: Insert integer e at the end of the list.\n",
    "#### sort: Sort the list.\n",
    "#### pop: Pop the last element from the list.\n",
    "#### reverse: Reverse the list.\n",
    "#### Initialize your list and read in the value of  followed by n lines of commands where each command will be of the 7 types listed above. Iterate through each command in order and perform the corresponding operation on your list."
   ]
  },
  {
   "cell_type": "code",
   "execution_count": 11,
   "id": "7e7cd2b5-d56b-4951-bc84-cc63fc959aa5",
   "metadata": {},
   "outputs": [
    {
     "name": "stdin",
     "output_type": "stream",
     "text": [
      "Enter the number of commands:  12\n",
      " insert 0 3\n",
      " insert 5 6\n",
      " print\n"
     ]
    },
    {
     "name": "stdout",
     "output_type": "stream",
     "text": [
      "[3, 6]\n"
     ]
    },
    {
     "name": "stdin",
     "output_type": "stream",
     "text": [
      " append 8 9\n",
      " print\n"
     ]
    },
    {
     "name": "stdout",
     "output_type": "stream",
     "text": [
      "[3, 6, 8]\n"
     ]
    },
    {
     "name": "stdin",
     "output_type": "stream",
     "text": [
      " sort\n",
      " print\n"
     ]
    },
    {
     "name": "stdout",
     "output_type": "stream",
     "text": [
      "[3, 6, 8]\n"
     ]
    },
    {
     "name": "stdin",
     "output_type": "stream",
     "text": [
      " reverse\n",
      " print\n"
     ]
    },
    {
     "name": "stdout",
     "output_type": "stream",
     "text": [
      "[8, 6, 3]\n"
     ]
    },
    {
     "name": "stdin",
     "output_type": "stream",
     "text": [
      " remove 8 9\n",
      " print\n"
     ]
    },
    {
     "name": "stdout",
     "output_type": "stream",
     "text": [
      "[6, 3]\n"
     ]
    },
    {
     "name": "stdin",
     "output_type": "stream",
     "text": [
      " pop\n"
     ]
    }
   ],
   "source": [
    "# Initialize an empty list\n",
    "list = []\n",
    "\n",
    "# Read the number of commands\n",
    "N = int(input(\"Enter the number of commands: \"))\n",
    "\n",
    "# Process each command\n",
    "for _ in range(N):\n",
    "    ip = input().split()  # Read the command and its arguments\n",
    "    \n",
    "    # Execute the corresponding operation based on the command\n",
    "    if ip[0] == 'print':\n",
    "        print(list)  # Print the current list\n",
    "    elif ip[0] == 'sort':\n",
    "        list.sort()  # Sort the list in ascending order\n",
    "    elif ip[0] == 'pop':\n",
    "        list.pop()  # Remove the last element from the list\n",
    "    elif ip[0] == 'reverse':\n",
    "        list.reverse()  # Reverse the order of elements in the list\n",
    "    elif ip[0] == 'insert':\n",
    "        list.insert(int(ip[1]), int(ip[2]))  # Insert an element at the specified index\n",
    "    elif ip[0] == 'append':\n",
    "        list.append(int(ip[1]))  # Append an element to the end of the list\n",
    "    elif ip[0] == 'remove':\n",
    "        list.remove(int(ip[1]))  # Remove the first occurrence of the specified value from the list"
   ]
  },
  {
   "cell_type": "code",
   "execution_count": 1,
   "id": "ebe0b674-e196-4def-9740-7dfd5afd00fd",
   "metadata": {},
   "outputs": [
    {
     "name": "stdout",
     "output_type": "stream",
     "text": [
      "Selected Jupyter core packages...\n",
      "IPython          : 8.25.0\n",
      "ipykernel        : 6.28.0\n",
      "ipywidgets       : 8.1.2\n",
      "jupyter_client   : 8.6.0\n",
      "jupyter_core     : 5.5.0\n",
      "jupyter_server   : 2.10.0\n",
      "jupyterlab       : 4.2.3\n",
      "nbclient         : 0.8.0\n",
      "nbconvert        : 7.10.0\n",
      "nbformat         : 5.9.2\n",
      "notebook         : 7.2.1\n",
      "qtconsole        : 5.5.1\n",
      "traitlets        : 5.14.3\n"
     ]
    }
   ],
   "source": [
    "!jupyter --version"
   ]
  }
 ],
 "metadata": {
  "kernelspec": {
   "display_name": "example",
   "language": "python",
   "name": "example"
  },
  "language_info": {
   "codemirror_mode": {
    "name": "ipython",
    "version": 3
   },
   "file_extension": ".py",
   "mimetype": "text/x-python",
   "name": "python",
   "nbconvert_exporter": "python",
   "pygments_lexer": "ipython3",
   "version": "3.12.2"
  }
 },
 "nbformat": 4,
 "nbformat_minor": 5
}
