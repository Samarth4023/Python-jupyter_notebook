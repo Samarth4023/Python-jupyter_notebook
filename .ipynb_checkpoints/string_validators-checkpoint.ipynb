{
 "cells": [
  {
   "cell_type": "markdown",
   "id": "48449fb2-b7dd-40ab-82db-246bdf96b4df",
   "metadata": {},
   "source": [
    "# Task\n",
    "### You are given a string s.\n",
    "### Your task is to find out if the string s contains: alphanumeric characters, alphabetical characters, digits, lowercase and uppercase characters.\n",
    "### Input Format:\n",
    "### A single line containing a string s."
   ]
  },
  {
   "cell_type": "code",
   "execution_count": 2,
   "id": "3e663738-f4d1-404c-904c-dda7ccda580c",
   "metadata": {},
   "outputs": [
    {
     "name": "stdin",
     "output_type": "stream",
     "text": [
      " q4A\n"
     ]
    },
    {
     "name": "stdout",
     "output_type": "stream",
     "text": [
      "True\n",
      "True\n",
      "True\n",
      "True\n",
      "True\n"
     ]
    }
   ],
   "source": [
    "if __name__ == '__main__':\n",
    "    # Get input from the user\n",
    "    s = input()\n",
    "\n",
    "    # Check if the input contains alphanumeric characters\n",
    "    alphanumeric = any(char.isalnum() for char in s)\n",
    "\n",
    "    # Check if the input contains alphabetical characters\n",
    "    alphabetical = any(char.isalpha() for char in s)\n",
    "\n",
    "    # Check if the input contains digits\n",
    "    digits = any(char.isdigit() for char in s)\n",
    "\n",
    "    # Check if the input contains lowercase letters\n",
    "    lowercase = any(char.islower() for char in s)\n",
    "\n",
    "    # Check if the input contains uppercase letters\n",
    "    uppercase = any(char.isupper() for char in s)\n",
    "    \n",
    "    # Print the results\n",
    "    print(alphanumeric)  # True if alphanumeric characters are present, False otherwise\n",
    "    print(alphabetical)  # True if alphabetical characters are present, False otherwise\n",
    "    print(digits)  # True if digits are present, False otherwise\n",
    "    print(lowercase)  # True if lowercase letters are present, False otherwise\n",
    "    print(uppercase)  # True if uppercase letters are present, False otherwise"
   ]
  },
  {
   "cell_type": "code",
   "execution_count": 1,
   "id": "982f3fc2-1338-4618-8d4e-a7b74bc55647",
   "metadata": {},
   "outputs": [
    {
     "name": "stdout",
     "output_type": "stream",
     "text": [
      "Selected Jupyter core packages...\n",
      "IPython          : 8.25.0\n",
      "ipykernel        : 6.28.0\n",
      "ipywidgets       : 8.1.2\n",
      "jupyter_client   : 8.6.0\n",
      "jupyter_core     : 5.5.0\n",
      "jupyter_server   : 2.10.0\n",
      "jupyterlab       : 4.2.3\n",
      "nbclient         : 0.8.0\n",
      "nbconvert        : 7.10.0\n",
      "nbformat         : 5.9.2\n",
      "notebook         : 7.2.1\n",
      "qtconsole        : 5.5.1\n",
      "traitlets        : 5.14.3\n"
     ]
    }
   ],
   "source": [
    "!jupyter --version"
   ]
  }
 ],
 "metadata": {
  "kernelspec": {
   "display_name": "example",
   "language": "python",
   "name": "example"
  },
  "language_info": {
   "codemirror_mode": {
    "name": "ipython",
    "version": 3
   },
   "file_extension": ".py",
   "mimetype": "text/x-python",
   "name": "python",
   "nbconvert_exporter": "python",
   "pygments_lexer": "ipython3",
   "version": "3.12.2"
  }
 },
 "nbformat": 4,
 "nbformat_minor": 5
}
