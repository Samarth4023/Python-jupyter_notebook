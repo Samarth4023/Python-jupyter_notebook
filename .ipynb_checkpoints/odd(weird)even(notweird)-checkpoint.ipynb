{
 "cells": [
  {
   "cell_type": "markdown",
   "id": "f58a253b-4d8d-432d-9873-53bf041b76d5",
   "metadata": {},
   "source": [
    "# Task Given an integer, n, perform the following conditional actions:\n",
    "### If n is odd, print Weird\n",
    "### If n is even and in the inclusive range of 2 to 5, print Not Weird\n",
    "### If n is even and in the inclusive range of 6 to 20, print Weird\n",
    "### If n is even and greater than 20, print Not Weird"
   ]
  },
  {
   "cell_type": "code",
   "execution_count": 8,
   "id": "5360ebc8-22b2-4d10-9d6c-970d6a06a325",
   "metadata": {},
   "outputs": [
    {
     "name": "stdin",
     "output_type": "stream",
     "text": [
      " 25\n"
     ]
    },
    {
     "name": "stdout",
     "output_type": "stream",
     "text": [
      "Weird\n"
     ]
    }
   ],
   "source": [
    "def check_weirdness(n):\n",
    "    # Check if the number is odd\n",
    "    if n % 2 != 0:\n",
    "        print(\"Weird\")\n",
    "    else:\n",
    "        # If the number is even, check the range it falls into\n",
    "        if 2 <= n <= 5:\n",
    "            print(\"Not Weird\")\n",
    "        elif 6 <= n <= 20:\n",
    "            print(\"Weird\")\n",
    "        elif n > 20:\n",
    "            print(\"Not Weird\")\n",
    "\n",
    "# Read input from the user and strip any extra whitespace\n",
    "n = int(input().strip())\n",
    "# Call the function to check the weirdness of the number\n",
    "check_weirdness(n)"
   ]
  },
  {
   "cell_type": "code",
   "execution_count": 1,
   "id": "15e787ad-b6ad-4067-8f9c-d37e57dad573",
   "metadata": {},
   "outputs": [
    {
     "name": "stdout",
     "output_type": "stream",
     "text": [
      "Selected Jupyter core packages...\n",
      "IPython          : 8.25.0\n",
      "ipykernel        : 6.28.0\n",
      "ipywidgets       : 8.1.2\n",
      "jupyter_client   : 8.6.0\n",
      "jupyter_core     : 5.5.0\n",
      "jupyter_server   : 2.10.0\n",
      "jupyterlab       : 4.2.3\n",
      "nbclient         : 0.8.0\n",
      "nbconvert        : 7.10.0\n",
      "nbformat         : 5.9.2\n",
      "notebook         : 7.2.1\n",
      "qtconsole        : 5.5.1\n",
      "traitlets        : 5.14.3\n"
     ]
    }
   ],
   "source": [
    "!jupyter --version"
   ]
  }
 ],
 "metadata": {
  "kernelspec": {
   "display_name": "example",
   "language": "python",
   "name": "example"
  },
  "language_info": {
   "codemirror_mode": {
    "name": "ipython",
    "version": 3
   },
   "file_extension": ".py",
   "mimetype": "text/x-python",
   "name": "python",
   "nbconvert_exporter": "python",
   "pygments_lexer": "ipython3",
   "version": "3.12.2"
  }
 },
 "nbformat": 4,
 "nbformat_minor": 5
}
