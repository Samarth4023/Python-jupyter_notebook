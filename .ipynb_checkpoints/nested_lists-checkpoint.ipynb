{
 "cells": [
  {
   "cell_type": "markdown",
   "id": "7ae099c8-a138-4490-87e4-21c9884f22e5",
   "metadata": {},
   "source": [
    "### Given the names and grades for each student in a class of N students, store them in a nested list and print the name(s) of any student(s) having the second lowest grade.\n",
    "\n",
    "### Note: If there are multiple students with the second lowest grade, order their names alphabetically and print each name on a new line."
   ]
  },
  {
   "cell_type": "code",
   "execution_count": 4,
   "id": "93ef3474-8076-418d-ba2e-7fd30c8f712f",
   "metadata": {},
   "outputs": [
    {
     "name": "stdin",
     "output_type": "stream",
     "text": [
      "Enter the number of students:  3\n",
      "Enter student name:  sam\n",
      "Enter student grade:  89\n"
     ]
    },
    {
     "name": "stdout",
     "output_type": "stream",
     "text": [
      "[['sam', 89.0]]\n"
     ]
    },
    {
     "name": "stdin",
     "output_type": "stream",
     "text": [
      "Enter student name:  ram\n",
      "Enter student grade:  91\n"
     ]
    },
    {
     "name": "stdout",
     "output_type": "stream",
     "text": [
      "[['sam', 89.0], ['ram', 91.0]]\n"
     ]
    },
    {
     "name": "stdin",
     "output_type": "stream",
     "text": [
      "Enter student name:  jim\n",
      "Enter student grade:  88\n"
     ]
    },
    {
     "name": "stdout",
     "output_type": "stream",
     "text": [
      "[['sam', 89.0], ['ram', 91.0], ['jim', 88.0]]\n",
      "[88.0, 89.0, 91.0]\n",
      "89.0\n",
      "['sam']\n",
      "['sam']\n",
      "sam\n"
     ]
    }
   ],
   "source": [
    "# Define a function to find students with the second lowest grade\n",
    "def find_second_lowest_grade_students():\n",
    "    students = []  # Initialize an empty list to store student data\n",
    "    \n",
    "    # Input the number of students\n",
    "    num_students = int(input(\"Enter the number of students: \"))\n",
    "    \n",
    "    # Input student names and grades\n",
    "    for _ in range(num_students):\n",
    "        name = input(\"Enter student name: \")\n",
    "        grade = float(input(\"Enter student grade: \"))\n",
    "        students.append([name, grade])  # Append student data as a list [name, grade]\n",
    "        print(students)  # Print the list of students (for debugging purposes)\n",
    "    \n",
    "    # Extract all unique grades and sort them\n",
    "    grades = sorted({student[1] for student in students})\n",
    "    print(grades)  # Print the sorted unique grades\n",
    "    \n",
    "    # Find the second lowest grade\n",
    "    second_lowest_grade = grades[1]\n",
    "    print(second_lowest_grade)  # Print the second lowest grade\n",
    "    \n",
    "    # Find all students with the second lowest grade\n",
    "    second_lowest_students = [student[0] for student in students if student[1] == second_lowest_grade]\n",
    "    print(second_lowest_students)  # Print the names of students with the second lowest grade\n",
    "    \n",
    "    # Sort the names alphabetically\n",
    "    second_lowest_students.sort()\n",
    "    print(second_lowest_students)  # Print the sorted names\n",
    "    \n",
    "    # Print the names of the students with the second lowest grade\n",
    "    for student in second_lowest_students:\n",
    "        print(student)\n",
    "\n",
    "# Call the function\n",
    "find_second_lowest_grade_students()"
   ]
  },
  {
   "cell_type": "code",
   "execution_count": 1,
   "id": "47f1b9ea-4540-4f75-912a-7ec376461799",
   "metadata": {},
   "outputs": [
    {
     "name": "stdout",
     "output_type": "stream",
     "text": [
      "Selected Jupyter core packages...\n",
      "IPython          : 8.25.0\n",
      "ipykernel        : 6.28.0\n",
      "ipywidgets       : 8.1.2\n",
      "jupyter_client   : 8.6.0\n",
      "jupyter_core     : 5.5.0\n",
      "jupyter_server   : 2.10.0\n",
      "jupyterlab       : 4.2.3\n",
      "nbclient         : 0.8.0\n",
      "nbconvert        : 7.10.0\n",
      "nbformat         : 5.9.2\n",
      "notebook         : 7.2.1\n",
      "qtconsole        : 5.5.1\n",
      "traitlets        : 5.14.3\n"
     ]
    }
   ],
   "source": [
    "!jupyter --version"
   ]
  }
 ],
 "metadata": {
  "kernelspec": {
   "display_name": "example",
   "language": "python",
   "name": "example"
  },
  "language_info": {
   "codemirror_mode": {
    "name": "ipython",
    "version": 3
   },
   "file_extension": ".py",
   "mimetype": "text/x-python",
   "name": "python",
   "nbconvert_exporter": "python",
   "pygments_lexer": "ipython3",
   "version": "3.12.2"
  }
 },
 "nbformat": 4,
 "nbformat_minor": 5
}
