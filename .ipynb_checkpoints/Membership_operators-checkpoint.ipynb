{
 "cells": [
  {
   "cell_type": "markdown",
   "id": "2a8a4b77-28ba-4dc3-a4d6-e5902a9027a2",
   "metadata": {},
   "source": [
    "## in & not in "
   ]
  },
  {
   "cell_type": "code",
   "execution_count": 2,
   "id": "ffb46cad-bbfe-4bde-8961-6127de032769",
   "metadata": {},
   "outputs": [
    {
     "name": "stdout",
     "output_type": "stream",
     "text": [
      "True False\n"
     ]
    }
   ],
   "source": [
    "greeting = \"Hello There!\"\n",
    "print('her' in greeting, 'her' not in greeting)"
   ]
  },
  {
   "cell_type": "code",
   "execution_count": 1,
   "id": "ab1f0c44-022d-4ae7-9967-eada961ed8d8",
   "metadata": {},
   "outputs": [
    {
     "name": "stdout",
     "output_type": "stream",
     "text": [
      "Selected Jupyter core packages...\n",
      "IPython          : 8.25.0\n",
      "ipykernel        : 6.28.0\n",
      "ipywidgets       : 8.1.2\n",
      "jupyter_client   : 8.6.0\n",
      "jupyter_core     : 5.5.0\n",
      "jupyter_server   : 2.10.0\n",
      "jupyterlab       : 4.2.3\n",
      "nbclient         : 0.8.0\n",
      "nbconvert        : 7.10.0\n",
      "nbformat         : 5.9.2\n",
      "notebook         : 7.2.1\n",
      "qtconsole        : 5.5.1\n",
      "traitlets        : 5.14.3\n"
     ]
    }
   ],
   "source": [
    "!jupyter --version"
   ]
  }
 ],
 "metadata": {
  "kernelspec": {
   "display_name": "example",
   "language": "python",
   "name": "example"
  },
  "language_info": {
   "codemirror_mode": {
    "name": "ipython",
    "version": 3
   },
   "file_extension": ".py",
   "mimetype": "text/x-python",
   "name": "python",
   "nbconvert_exporter": "python",
   "pygments_lexer": "ipython3",
   "version": "3.12.2"
  }
 },
 "nbformat": 4,
 "nbformat_minor": 5
}
