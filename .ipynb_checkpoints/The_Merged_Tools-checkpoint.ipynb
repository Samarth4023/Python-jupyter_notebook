{
 "cells": [
  {
   "cell_type": "markdown",
   "id": "fbf4d2d4-25a4-43bc-9082-7ab3f486c592",
   "metadata": {},
   "source": [
    "#### Complete the merge_the_tools function in the editor below.\n",
    "#### merge_the_tools has the following parameters:\n",
    "#### string s: the string to analyze\n",
    "#### int k: the size of substrings to analyze\n",
    "#### Prints\n",
    "#### Print each subsequence on a new line. There will be n/k of them. No return value is expected.\n",
    "#### Input Format\n",
    "#### The first line contains a single string, s.\n",
    "#### The second line contains an integer, k, the length of each substring."
   ]
  },
  {
   "cell_type": "code",
   "execution_count": 2,
   "id": "f6a9bf57-b622-4496-8096-896636d7c7e7",
   "metadata": {},
   "outputs": [
    {
     "name": "stdin",
     "output_type": "stream",
     "text": [
      " ASDSDUYIFJKC\n",
      " 2\n"
     ]
    },
    {
     "name": "stdout",
     "output_type": "stream",
     "text": [
      "AS\n",
      "DS\n",
      "DU\n",
      "YI\n",
      "FJ\n",
      "KC\n"
     ]
    }
   ],
   "source": [
    "def merge_the_tools(string, k):\n",
    "    # Iterate over the string in chunks of size k\n",
    "    for i in range(0, len(string), k):\n",
    "        # Extract the substring of length k\n",
    "        s = string[i: i+k]\n",
    "        result = ''  # Initialize an empty result string for the current chunk\n",
    "        dic = {}  # Initialize an empty dictionary to track character occurrences\n",
    "        # Iterate over each character in the substring\n",
    "        for c in s:\n",
    "            # Update the character count in the dictionary\n",
    "            dic[c] = 1 + dic.get(c, 0)\n",
    "            # If the character count is 1, add it to the result string\n",
    "            if dic[c] == 1:\n",
    "                result += c\n",
    "        # Print the result string for the current chunk\n",
    "        print(result)\n",
    "\n",
    "if __name__ == '__main__':\n",
    "    # Read input string and integer k\n",
    "    string, k = input(), int(input())\n",
    "    # Call the function with the input values\n",
    "    merge_the_tools(string, k)"
   ]
  },
  {
   "cell_type": "code",
   "execution_count": 1,
   "id": "2a938dd4-c1a6-4e3a-8fb5-74ea6f8f6fab",
   "metadata": {},
   "outputs": [
    {
     "name": "stdout",
     "output_type": "stream",
     "text": [
      "Selected Jupyter core packages...\n",
      "IPython          : 8.25.0\n",
      "ipykernel        : 6.28.0\n",
      "ipywidgets       : 8.1.2\n",
      "jupyter_client   : 8.6.0\n",
      "jupyter_core     : 5.5.0\n",
      "jupyter_server   : 2.10.0\n",
      "jupyterlab       : 4.2.3\n",
      "nbclient         : 0.8.0\n",
      "nbconvert        : 7.10.0\n",
      "nbformat         : 5.9.2\n",
      "notebook         : 7.2.1\n",
      "qtconsole        : 5.5.1\n",
      "traitlets        : 5.14.3\n"
     ]
    }
   ],
   "source": [
    "!jupyter --version"
   ]
  }
 ],
 "metadata": {
  "kernelspec": {
   "display_name": "example",
   "language": "python",
   "name": "example"
  },
  "language_info": {
   "codemirror_mode": {
    "name": "ipython",
    "version": 3
   },
   "file_extension": ".py",
   "mimetype": "text/x-python",
   "name": "python",
   "nbconvert_exporter": "python",
   "pygments_lexer": "ipython3",
   "version": "3.12.2"
  }
 },
 "nbformat": 4,
 "nbformat_minor": 5
}
