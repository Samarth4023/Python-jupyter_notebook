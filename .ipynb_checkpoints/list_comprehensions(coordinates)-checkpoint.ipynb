{
 "cells": [
  {
   "cell_type": "markdown",
   "id": "89767bf9-1c9e-4fa9-87d6-0233fab14673",
   "metadata": {},
   "source": [
    "### Let's learn about list comprehensions! You are given three integers x, y and z representing the dimensions of a cuboid along with an integer . Print a list of all possible coordinates given by (i, j, k) on a 3D grid where the sum of i+j+k is not equal to n. Here, 0<=i<=x; 0<=j<=y; 0<=k<=z. Please use list comprehensions rather than multiple loops, as a learning exercise.\n",
    "\n"
   ]
  },
  {
   "cell_type": "code",
   "execution_count": 5,
   "id": "f197d17d-1100-4acf-9722-3e5e8857c641",
   "metadata": {},
   "outputs": [
    {
     "name": "stdin",
     "output_type": "stream",
     "text": [
      " 1\n",
      " 1\n",
      " 2\n",
      " 2\n"
     ]
    },
    {
     "name": "stdout",
     "output_type": "stream",
     "text": [
      "[[0, 0, 0], [0, 0, 1], [0, 1, 0], [0, 1, 2], [1, 0, 0], [1, 0, 2], [1, 1, 1], [1, 1, 2]]\n"
     ]
    }
   ],
   "source": [
    "if __name__ == '__main__':\n",
    "    # Read integer inputs for x, y, z, and n from the user\n",
    "    x = int(input())\n",
    "    y = int(input())\n",
    "    z = int(input())\n",
    "    n = int(input())\n",
    "  \n",
    "# Generate a list of all possible coordinates [i, j, k] where\n",
    "# 0 <= i <= x, 0 <= j <= y, 0 <= k <= z\n",
    "# and the sum of i, j, and k is not equal to n\n",
    "coordinates = [([i, j, k]) for i in range(x+1) for j in range(y+1) for k in range(z+1) if i+j+k != n]\n",
    "\n",
    "# Print the list of coordinates\n",
    "print(coordinates)"
   ]
  },
  {
   "cell_type": "code",
   "execution_count": 1,
   "id": "f42e9b1f-df60-4676-99f0-84c5ac8b2eb0",
   "metadata": {},
   "outputs": [
    {
     "name": "stdout",
     "output_type": "stream",
     "text": [
      "Selected Jupyter core packages...\n",
      "IPython          : 8.25.0\n",
      "ipykernel        : 6.28.0\n",
      "ipywidgets       : 8.1.2\n",
      "jupyter_client   : 8.6.0\n",
      "jupyter_core     : 5.5.0\n",
      "jupyter_server   : 2.10.0\n",
      "jupyterlab       : 4.2.3\n",
      "nbclient         : 0.8.0\n",
      "nbconvert        : 7.10.0\n",
      "nbformat         : 5.9.2\n",
      "notebook         : 7.2.1\n",
      "qtconsole        : 5.5.1\n",
      "traitlets        : 5.14.3\n"
     ]
    }
   ],
   "source": [
    "!jupyter --version"
   ]
  }
 ],
 "metadata": {
  "kernelspec": {
   "display_name": "example",
   "language": "python",
   "name": "example"
  },
  "language_info": {
   "codemirror_mode": {
    "name": "ipython",
    "version": 3
   },
   "file_extension": ".py",
   "mimetype": "text/x-python",
   "name": "python",
   "nbconvert_exporter": "python",
   "pygments_lexer": "ipython3",
   "version": "3.12.2"
  }
 },
 "nbformat": 4,
 "nbformat_minor": 5
}
