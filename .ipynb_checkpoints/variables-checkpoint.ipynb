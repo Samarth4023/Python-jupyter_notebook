{
 "cells": [
  {
   "cell_type": "code",
   "execution_count": null,
   "id": "5486e58d-c1fd-4965-a24e-02050a0e8587",
   "metadata": {},
   "outputs": [],
   "source": [
    "mv_population = 74728\n",
    "# mv_population ---> variable name\n",
    "# = ---> assignment operator\n",
    "# 74728 ---> variable"
   ]
  },
  {
   "cell_type": "code",
   "execution_count": null,
   "id": "5ca960a0-13ab-4cb9-a733-27a2aada254e",
   "metadata": {},
   "outputs": [],
   "source": [
    "x,y,z = 2,4,6\n",
    "# we can also assign like this"
   ]
  },
  {
   "cell_type": "code",
   "execution_count": 3,
   "id": "ab0384f5-b600-41a7-b1bd-f64716a60f9b",
   "metadata": {},
   "outputs": [
    {
     "name": "stdout",
     "output_type": "stream",
     "text": [
      "81528\n"
     ]
    }
   ],
   "source": [
    "# variable manipulation\n",
    "mv_population = 74728\n",
    "mv_population = mv_population + 4000 - 600\n",
    "\n",
    "# -------------OR----------------\n",
    "\n",
    "mv_population += 4000 - 600\n",
    "# += ---> increment assignment operator\n",
    "\n",
    "print (mv_population)"
   ]
  },
  {
   "cell_type": "code",
   "execution_count": 1,
   "id": "0782ab22-ecf9-4d8f-ae63-07c6aacac382",
   "metadata": {},
   "outputs": [
    {
     "name": "stdout",
     "output_type": "stream",
     "text": [
      "Selected Jupyter core packages...\n",
      "IPython          : 8.25.0\n",
      "ipykernel        : 6.28.0\n",
      "ipywidgets       : 8.1.2\n",
      "jupyter_client   : 8.6.0\n",
      "jupyter_core     : 5.5.0\n",
      "jupyter_server   : 2.10.0\n",
      "jupyterlab       : 4.2.3\n",
      "nbclient         : 0.8.0\n",
      "nbconvert        : 7.10.0\n",
      "nbformat         : 5.9.2\n",
      "notebook         : 7.2.1\n",
      "qtconsole        : 5.5.1\n",
      "traitlets        : 5.14.3\n"
     ]
    }
   ],
   "source": [
    "!jupyter --version"
   ]
  }
 ],
 "metadata": {
  "kernelspec": {
   "display_name": "example",
   "language": "python",
   "name": "example"
  },
  "language_info": {
   "codemirror_mode": {
    "name": "ipython",
    "version": 3
   },
   "file_extension": ".py",
   "mimetype": "text/x-python",
   "name": "python",
   "nbconvert_exporter": "python",
   "pygments_lexer": "ipython3",
   "version": "3.12.2"
  }
 },
 "nbformat": 4,
 "nbformat_minor": 5
}
