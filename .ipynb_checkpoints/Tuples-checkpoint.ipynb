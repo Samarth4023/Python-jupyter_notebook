{
 "cells": [
  {
   "cell_type": "markdown",
   "id": "6095ecb9-371a-4145-a3a8-20791911832e",
   "metadata": {},
   "source": [
    "# Tuples\n",
    "## A datatype for immutable ordered sequences of elements.\n",
    "### Tuples cannot be added or remove items or sort them in place."
   ]
  },
  {
   "cell_type": "code",
   "execution_count": 5,
   "id": "b16307ee-0483-4278-ae15-992f9c089b11",
   "metadata": {},
   "outputs": [
    {
     "name": "stdout",
     "output_type": "stream",
     "text": [
      "The dimensions are 52 * 40 * 100\n"
     ]
    }
   ],
   "source": [
    "# Tuples are used to store related pieces of information\n",
    "dimensions = 52, 40, 100\n",
    "length, width, height = dimensions\n",
    "# tuple unpacking\n",
    "print('The dimensions are {} * {} * {}'.format(length, width, height))\n"
   ]
  },
  {
   "cell_type": "markdown",
   "id": "77640d7c-8838-47cf-9b8b-d7328a71edc6",
   "metadata": {},
   "source": [
    "### You can also use tuple unpacking for assigning the information from a tuple into multiple variables without having to access them one by one, and make multiple assignment statements."
   ]
  },
  {
   "cell_type": "code",
   "execution_count": 1,
   "id": "af6adaf4-afc4-4e73-834e-6a673d553529",
   "metadata": {},
   "outputs": [
    {
     "name": "stdout",
     "output_type": "stream",
     "text": [
      "Selected Jupyter core packages...\n",
      "IPython          : 8.25.0\n",
      "ipykernel        : 6.28.0\n",
      "ipywidgets       : 8.1.2\n",
      "jupyter_client   : 8.6.0\n",
      "jupyter_core     : 5.5.0\n",
      "jupyter_server   : 2.10.0\n",
      "jupyterlab       : 4.2.3\n",
      "nbclient         : 0.8.0\n",
      "nbconvert        : 7.10.0\n",
      "nbformat         : 5.9.2\n",
      "notebook         : 7.2.1\n",
      "qtconsole        : 5.5.1\n",
      "traitlets        : 5.14.3\n"
     ]
    }
   ],
   "source": [
    "!jupyter --version"
   ]
  }
 ],
 "metadata": {
  "kernelspec": {
   "display_name": "example",
   "language": "python",
   "name": "example"
  },
  "language_info": {
   "codemirror_mode": {
    "name": "ipython",
    "version": 3
   },
   "file_extension": ".py",
   "mimetype": "text/x-python",
   "name": "python",
   "nbconvert_exporter": "python",
   "pygments_lexer": "ipython3",
   "version": "3.12.2"
  }
 },
 "nbformat": 4,
 "nbformat_minor": 5
}
