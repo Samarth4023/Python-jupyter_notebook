{
 "cells": [
  {
   "cell_type": "code",
   "execution_count": 3,
   "id": "8fc3f4a9-c79f-490d-a5b5-89e6ff302994",
   "metadata": {},
   "outputs": [
    {
     "name": "stdin",
     "output_type": "stream",
     "text": [
      "Enter the number of students:  3\n",
      "Enter student name and scores:  sam 45 56 23\n",
      "Enter student name and scores:  ram 89 98 99\n",
      "Enter student name and scores:  jim 35 56 48\n",
      "Enter the name of the student:  ram\n"
     ]
    },
    {
     "name": "stdout",
     "output_type": "stream",
     "text": [
      "Average score for ram: 95.33\n"
     ]
    }
   ],
   "source": [
    "# Initialize an empty dictionary to store student marks\n",
    "student_marks = {}\n",
    "\n",
    "# Read the number of students\n",
    "n = int(input(\"Enter the number of students: \"))\n",
    "\n",
    "# Input student names and their scores\n",
    "for _ in range(n):\n",
    "    name, *line = input(\"Enter student name and scores: \").split()\n",
    "    scores = list(map(float, line))  # Convert scores to a list of floats\n",
    "    student_marks[name] = scores  # Store student scores in the dictionary\n",
    "\n",
    "# Read the name of the student for whom we want to calculate the average\n",
    "query_name = input(\"Enter the name of the student: \")\n",
    "\n",
    "# Retrieve the scores for the specified student\n",
    "query_scores = student_marks[query_name]\n",
    "\n",
    "# Calculate the average score\n",
    "average_score = sum(query_scores) / len(query_scores)\n",
    "\n",
    "# Print the average score with two decimal places\n",
    "print(f\"Average score for {query_name}: {average_score:.2f}\")"
   ]
  },
  {
   "cell_type": "code",
   "execution_count": 1,
   "id": "27da2ab3-a01d-447a-88c9-f88fca107ebf",
   "metadata": {},
   "outputs": [
    {
     "name": "stdout",
     "output_type": "stream",
     "text": [
      "Selected Jupyter core packages...\n",
      "IPython          : 8.25.0\n",
      "ipykernel        : 6.28.0\n",
      "ipywidgets       : 8.1.2\n",
      "jupyter_client   : 8.6.0\n",
      "jupyter_core     : 5.5.0\n",
      "jupyter_server   : 2.10.0\n",
      "jupyterlab       : 4.2.3\n",
      "nbclient         : 0.8.0\n",
      "nbconvert        : 7.10.0\n",
      "nbformat         : 5.9.2\n",
      "notebook         : 7.2.1\n",
      "qtconsole        : 5.5.1\n",
      "traitlets        : 5.14.3\n"
     ]
    }
   ],
   "source": [
    "!jupyter --version"
   ]
  }
 ],
 "metadata": {
  "kernelspec": {
   "display_name": "example",
   "language": "python",
   "name": "example"
  },
  "language_info": {
   "codemirror_mode": {
    "name": "ipython",
    "version": 3
   },
   "file_extension": ".py",
   "mimetype": "text/x-python",
   "name": "python",
   "nbconvert_exporter": "python",
   "pygments_lexer": "ipython3",
   "version": "3.12.2"
  }
 },
 "nbformat": 4,
 "nbformat_minor": 5
}
