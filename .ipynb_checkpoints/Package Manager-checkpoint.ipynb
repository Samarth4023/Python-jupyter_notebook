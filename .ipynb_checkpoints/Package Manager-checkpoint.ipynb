{
 "cells": [
  {
   "cell_type": "markdown",
   "id": "b92af0e4-cfcb-4a8c-96d6-9070eb0292b8",
   "metadata": {},
   "source": [
    "# Package Manager"
   ]
  },
  {
   "cell_type": "code",
   "execution_count": 3,
   "id": "8cbc71a6-e33c-407d-b683-055719525d41",
   "metadata": {},
   "outputs": [
    {
     "name": "stdout",
     "output_type": "stream",
     "text": [
      "Time zone for IST: Asia/Kolkata\n",
      "Current time in IST: 2024-06-06 09:39:40.667871+05:30\n"
     ]
    }
   ],
   "source": [
    "# Import necessary modules\n",
    "from datetime import datetime\n",
    "import pytz\n",
    "\n",
    "# Define the UTC and IST time zones\n",
    "utc = pytz.utc\n",
    "ist = pytz.timezone(\"Asia/Kolkata\")\n",
    "\n",
    "# Get the current time in UTC\n",
    "now = datetime.now(tz=utc)\n",
    "\n",
    "# Convert the UTC time to IST\n",
    "ist_now = now.astimezone(ist)\n",
    "\n",
    "# Print the time zone information and the converted time\n",
    "print(\"Time zone for IST:\", ist)\n",
    "print(\"Current time in IST:\", ist_now)"
   ]
  },
  {
   "cell_type": "code",
   "execution_count": 1,
   "id": "901aa21f-f432-4994-a0d3-72ea19c87301",
   "metadata": {},
   "outputs": [
    {
     "name": "stdout",
     "output_type": "stream",
     "text": [
      "Selected Jupyter core packages...\n",
      "IPython          : 8.25.0\n",
      "ipykernel        : 6.28.0\n",
      "ipywidgets       : 8.1.2\n",
      "jupyter_client   : 8.6.0\n",
      "jupyter_core     : 5.5.0\n",
      "jupyter_server   : 2.10.0\n",
      "jupyterlab       : 4.2.3\n",
      "nbclient         : 0.8.0\n",
      "nbconvert        : 7.10.0\n",
      "nbformat         : 5.9.2\n",
      "notebook         : 7.2.1\n",
      "qtconsole        : 5.5.1\n",
      "traitlets        : 5.14.3\n"
     ]
    }
   ],
   "source": [
    "!jupyter --version"
   ]
  }
 ],
 "metadata": {
  "kernelspec": {
   "display_name": "example",
   "language": "python",
   "name": "example"
  },
  "language_info": {
   "codemirror_mode": {
    "name": "ipython",
    "version": 3
   },
   "file_extension": ".py",
   "mimetype": "text/x-python",
   "name": "python",
   "nbconvert_exporter": "python",
   "pygments_lexer": "ipython3",
   "version": "3.12.2"
  }
 },
 "nbformat": 4,
 "nbformat_minor": 5
}
